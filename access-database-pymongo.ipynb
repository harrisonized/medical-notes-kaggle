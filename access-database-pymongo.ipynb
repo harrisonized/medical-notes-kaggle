{
 "cells": [
  {
   "cell_type": "code",
   "execution_count": 1,
   "metadata": {},
   "outputs": [],
   "source": [
    "from pymongo import MongoClient\n",
    "client = MongoClient() # Creates a client that uses the default port on localhost.\n",
    "database = client.medical_notes_kaggle # Connect to medical_notes_kaggle database"
   ]
  },
  {
   "cell_type": "code",
   "execution_count": 2,
   "metadata": {
    "scrolled": true
   },
   "outputs": [
    {
     "data": {
      "text/plain": [
       "[{'_id': ObjectId('5d684aa64b8c8ac8cb94f690'),\n",
       "  'EXAM': 'MRI LEFT SHOULDER',\n",
       "  'CLINICAL': 'This is a 69-year-old male with pain in the shoulder. Evaluate for rotator cuff tear.',\n",
       "  'FINDINGS': 'Examination was performed on 9/1/05. There is marked supraspinatus tendinosis and extensive tearing of the substance of the tendon and articular surface, extending into the myotendinous junction as well. There is still a small rim of tendon along the bursal surface, although there may be a small tear at the level of the rotator interval. There is no retracted tendon or muscular atrophy (series #6 images #6-17). Normal infraspinatus tendon. There is subscapularis tendinosis with fraying and partial tearing of the superior most fibers extending to the level of the rotator interval (series #9 images #8-13; series #3 images #8-14). There is no complete tear, gap or fiber retraction and there is no muscular atrophy. There is tendinosis and superficial tearing of the long biceps tendon within the bicipital groove, and there is high grade (near complete) partial tearing of the intracapsular portion of the tendon. The biceps anchor is intact. There are degenerative changes in the greater tuberosity of the humerus but there is no fracture or subluxation. There is degeneration of the superior labrum and there is a small nondisplaced tear in the posterior superior labrum at the one to two o�clock position (series #6 images #12-14; series #3 images #8-10; series #9 images #5-8). There is a small sublabral foramen at the eleven o�clock position (series #9 image #6). There is no osseous Bankart lesion. Normal superior, middle and inferior glenohumeral ligaments. There is hypertrophic osteoarthropathy of the acromioclavicular joint with narrowing of the subacromial space and flattening of the superior surface of the supraspinatus musculotendinous junction, which in the appropriate clinical setting is an MRI manifestation of an impinging lesion (series #8 images #3-12). Normal coracoacromial, coracohumeral and coracoclavicular ligaments. There is minimal fluid within the glenohumeral joint. There is no atrophy of the deltoid muscle.',\n",
       "  'IMPRESSION': 'There is extensive supraspinatus tendinosis and partial tearing as described. There is no retracted tendon or muscular atrophy, but there may be a small tear along the anterior edge of the tendon at the level of the rotator interval, and this associated partial tearing of the superior most fibers of the subscapularis tendon.  There is also a high-grade partial tear of the long biceps tendon as it courses under the transverse humeral ligament. There is no evidence of a complete tear or retracted tendon. Small nondisplaced posterior superior labral tear. Outlet narrowing from the acromioclavicular joint, which in the appropriate clinical setting is an MRI manifestation of an impinging lesion.',\n",
       "  'index_': '1004',\n",
       "  'clinical_domain': 'Radiology'},\n",
       " {'_id': ObjectId('5d684aa64b8c8ac8cb94f691'),\n",
       "  'PREOPERATIVE DIAGNOSIS': 'Ganglion of the left wrist.',\n",
       "  'POSTOPERATIVE DIAGNOSIS': 'Ganglion of the left wrist.',\n",
       "  'OPERATION': 'After a successful anesthetic, the patient was positioned on the operating table.  A tourniquet applied to the upper arm.  The extremity was prepped in a usual manner for a surgical procedure and draped off.  The superficial vessels were exsanguinated with an elastic wrap and the tourniquet was then inflated to the usual arm pressure.  A curved incision was made over the presenting ganglion over the dorsal aspect of the wrist.  By blunt and sharp dissection, it was dissected out from underneath the extensor tendons and the stalk appeared to arise from the distal radiocapitellar joint and the dorsal capsule was excised along with the ganglion and the specimen was removed and submitted.  The small superficial vessels were electrocoagulated and instilled after closing the skin with 4-0 Prolene, into the area was approximately 6 to 7 mL of 0.25 Marcaine with epinephrine.  A Jackson-Pratt drain was inserted and then after the tourniquet was released, it was kept deflated until at least 5 to 10 minutes had passed and then it was activated and then removed in the recovery room.  The dressings applied to the hand were that of Xeroform, 4x4s, ABD, Kerlix, and elastic wrap over a volar fiberglass splint.  The tourniquet was released.  Circulation returned to the fingers.  The patient then was allowed to awaken and left the operating room in good condition.',\n",
       "  'ANESTHESIA': 'General.',\n",
       "  'ESTIMATED BLOOD LOSS': 'Less than 5 mL.',\n",
       "  'index_': '1002',\n",
       "  'clinical_domain': 'Orthopedic'},\n",
       " {'_id': ObjectId('5d684aa64b8c8ac8cb94f692'),\n",
       "  'HISTORY OF PRESENT ILLNESS': 'The patient is a 57-year-old female being seen today for evaluation of pain and symptoms related to a recurrent bunion deformity in bilateral feet, right greater than left.  The patient states she is having increasing symptoms of pain and discomfort associated with recurrence of bunion deformity on the right foot and pain localized to the second toe and MTP joint of the right foot as well.  The patient had prior surgery performed approximately 13 years ago.  She states that since the time of the original surgery the deformity has slowly recurred, and she has noticed progressive deformity in the lesser toes at the second and third toes of the left foot and involving the second toe of the right foot.  The patient is employed on her feet as a hospital employee and states that she does wear a functional orthotic which does provide some relief of forefoot pain although not complete.',\n",
       "  'PAST MEDICAL HISTORY, FAMILY HISTORY, SOCIAL HISTORY & REVIEW OF SYSTEMS': 'See Patient History sheet, which was reviewed with the patient and is signed in the chart.  Past medical history on the patient, past surgical history, current medications, drug-related allergies and social history have all been updated and reviewed, and enclosed in the chart.',\n",
       "  'PHYSICAL EXAMINATION': 'Physical exam reveals a pleasant, 57-year-old female who is 5 feet 4 inches and 150 pounds.  She has palpable pulses.  Neurologic sensation is intact.  Examination of the extremities shows the patient as having well-healed surgical sites from her arthroplasty, second digits bilaterally and prior bunionectomy.  There is a recurrence of bunion deformity noted on both great toes although the patient notes to have reasonably good range of movement.  She has particular pain in the second MTP joint of the right foot and demonstrates a mild claw-toe deformity of the second and third toes to the left foot, and to a lesser degree the second toe to the right.  Gait analysis:  The patient stands and walks with a rather severe pes planus and has generalized hypermobility noted in the feet.',\n",
       "  'X-RAY INTERPRETATION': 'X-rays taken today; three views to the right foot shows presence of internal K-wire and wire from prior bunionectomy.  Biomechanical analysis shows 15 degree intermetatarsal angle and approximately 45 degree hallux abducto valgus angle.  No evidence of arthrosis in the joint is noted.  Significant shift to the fibular sesamoid is present.',\n",
       "  'ASSESSMENT': '1.  Recurrent bunion deformity, right forefoot. 2.  Pes planovalgus deformity, bilateral feet.',\n",
       "  'PLAN/TREATMENT': '1.  Today, we did review remaining treatment options with the patient including the feasibility of conservative versus surgical treatment.  The patient would require an open wedge osteotomy to reduce the intermetatarsal angle with the lateral release and a decompression osteotomy  at the second metatarsal.  Anticipated length of healing was noted for the patient as were potential risks and complications.  The patient ultimately would probably require surgery on her left foot at a later date as well. 2.  The patient will explore her ability to get out of work for the above-mentioned period of time and will be in touch with regards regarding scheduling at a later date. 3.  All questions were answered.',\n",
       "  'index_': '1005',\n",
       "  'clinical_domain': 'Orthopedic'},\n",
       " {'_id': ObjectId('5d684aa64b8c8ac8cb94f693'),\n",
       "  'PROCEDURES PERFORMED': 'Colonoscopy.',\n",
       "  'INDICATIONS': 'Renewed symptoms likely consistent with active flare of Inflammatory Bowel Disease, not responsive to conventional therapy including sulfasalazine, cortisone, local therapy.',\n",
       "  'PROCEDURE': 'Informed consent was obtained prior to the procedure with special attention to benefits, risks, alternatives.  Risks explained as bleeding, infection, bowel perforation, aspiration pneumonia, or reaction to the medications.  Vital signs were monitored by blood pressure, heart rate, and oxygen saturation.  Supplemental O2 given.  Specifics discussed.  Preprocedure physical exam performed.  Stable vital signs.  Lungs clear.  Cardiac exam showed regular rhythm.  Abdomen soft.  Her past history, her past workup, her past visitation with me for Inflammatory Bowel Disease, well responsive to sulfasalazine reviewed.  She currently has a flare and is not responding, therefore, likely may require steroid taper.  At the same token, her symptoms are mild.  She has rectal bleeding, essentially only some rusty stools.  There is not significant diarrhea, just some lower stools.  No significant pain.  Therefore, it is possible that we are just dealing with a hemorrhoidal bleed, therefore, colonoscopy now needed.  Past history reviewed.  Specifics of workup, need for followup, and similar discussed.  All questions answered. A normal digital rectal examination was performed.  The PCF-160 AL was inserted into the anus and advanced to the cecum without difficulty, as identified by the ileocecal valve, cecal stump, and appendical orifice.  All mucosal aspects thoroughly inspected, including a retroflexed examination.  Withdrawal time was greater than six minutes.  Unfortunately, the terminal ileum could not be intubated despite multiple attempts. Findings were those of a normal cecum, right colon, transverse colon, descending colon.  A small cecal polyp was noted, this was biopsy-removed, placed in bottle #1.  Random biopsies from the cecum obtained, bottle #2; random biopsies from the transverse colon obtained, as well as descending colon obtained, bottle #3.  There was an area of inflammation in the proximal sigmoid colon, which was biopsied, placed in bottle #4.  There was an area of relative sparing, with normal sigmoid lining, placed in bottle #5, randomly biopsied, and then inflammation again in the distal sigmoid colon and rectum biopsied, bottle #6, suggesting that we may be dealing with Crohn disease, given the relative sparing of the sigmoid colon and junk lesion.  Retroflexed showed hemorrhoidal disease.  Scope was then withdrawn, patient left in good condition.',\n",
       "  'IMPRESSION': 'Active flare of Inflammatory Bowel Disease, question of Crohn disease.',\n",
       "  'PLAN': 'I will have the patient follow up with me, will follow up on histology, follow up on the polyps.  She will be put on a steroid taper and make an appointment and hopefully steroids alone will do the job.  If not, she may be started on immune suppressive medication, such as azathioprine, or similar.  All of this has been reviewed with the patient.  All questions answered.',\n",
       "  'index_': '1007',\n",
       "  'clinical_domain': 'Gastroenterology'},\n",
       " {'_id': ObjectId('5d684aa64b8c8ac8cb94f694'),\n",
       "  'CC': 'Transient visual field loss.',\n",
       "  'HX': 'This 58 y/o RHF had a 2 yr h/o increasing gait difficulty which she attributed to generalized weakness and occasional visual obscurations. She was evaluated by a local physician several days prior to this presentation (1/7/91), for clumsiness of her right hand and falling. HCT and MRI brain revealed bilateral posterior clinoid masses.',\n",
       "  'MEDS': 'Colace, Quinidine, Synthroid, Lasix, Lanoxin, KCL, Elavil, Tenormin.',\n",
       "  'PMH': \"1) Obesity.  2) VBG, 1990.  3) A-Fib. 4) HTN.  5) Hypothyroidism.  6) Hypercholesterolemia. 7) Briquet's syndrome: h/o of hysterical paralysis. 8) CLL, dx 1989; in 1992 presented with left neck lymphadenopathy and received 5 cycles of chlorambucil/prednisone chemotherapy; 10/95 parotid gland biopsy was consistent with CLL and she received 5 more cycles of chlorambucil/prednisone; 1/10/96, she received 3000cGy to right parotid mass. 9) SNHL\",\n",
       "  'FHX': 'Father died, MI age 61.',\n",
       "  'SHX': 'Denied Tobacco/ETOH/illicit drug use.',\n",
       "  'EXAM': 'Vitals were unremarkable. The neurologic exam was unremarkable except for obesity and mild decreased PP about the right upper and lower face, diffusely about the left upper and lower face, per neurosurgery notes. The neuro-ophthalmologic exam was unremarkable, per Neuro-ophthalmology.',\n",
       "  'COURSE': 'She underwent Cerebral Angiography on 1/8/91. This revealed a 15x17x20mm LICA paraclinoid/ophthalmic artery aneurysm and a 5x7mm RICA paraclinoid/ophthalmic artery aneurysm. On 1/16/91 she underwent a left frontotemporal craniotomy and exploration of the left aneurysm. The aneurysm neck went into the cavernous sinus and was unclippable so it was wrapped. She has complained of headaches since.',\n",
       "  'index_': '1008',\n",
       "  'clinical_domain': 'Radiology'},\n",
       " {'_id': ObjectId('5d684aa64b8c8ac8cb94f695'),\n",
       "  'PROCEDURE': 'Elective male sterilization via bilateral vasectomy.',\n",
       "  'PREOPERATIVE DIAGNOSIS': 'Fertile male with completed family.',\n",
       "  'POSTOPERATIVE DIAGNOSIS': 'Fertile male with completed family.',\n",
       "  'MEDICATIONS': 'Anesthesia is local with conscious sedation.',\n",
       "  'COMPLICATIONS': 'None.',\n",
       "  'BLOOD LOSS': 'Minimal.',\n",
       "  'INDICATIONS': 'This 34-year-old gentleman has come to the office requesting sterilization via bilateral vasectomy.  I discussed the indications and the need for procedure with the patient in detail, and he has given consent to proceed.  He has been given prophylactic antibiotics.',\n",
       "  'PROCEDURE NOTE': 'Once satisfactory sedation have been obtained, the patient was placed in the supine position on the operating table.  Genitalia was shaved and then prepped with Betadine scrub and paint solution and were draped sterilely.  The procedure itself was started by grasping the right vas deferens in the scrotum, and bringing it up to the level of the skin.  The skin was infiltrated with 2% Xylocaine and punctured with a sharp hemostat to identify the vas beneath.  The vas was brought out of the incision carefully.  A 2-inch segment was isolated, and 1-inch segment was removed.  The free ends were cauterized and were tied with 2-0 silk sutures in such a fashion that the ends double back on themselves.  After securing hemostasis with a cautery, the ends were allowed to drop back into the incision, which was also cauterized. Attention was now turned to the left side.  The vas was grasped and brought up to the level of the skin.  The skin was infiltrated with 2% Xylocaine and punctured with a sharp hemostat to identify the vas beneath.  The vas was brought out of the incision carefully.  A 2-inch segment was isolated, and 1-inch segment was removed.  The free ends were cauterized and tied with 2-0 silk sutures in such a fashion that the ends double back on themselves.  After securing hemostasis with the cautery, the ends were allowed to drop back into the incision, which was also cauterized. Bacitracin ointment was applied as well as dry sterile dressing.  The patient was awakened and was returned to Recovery in satisfactory condition.',\n",
       "  'index_': '1009',\n",
       "  'clinical_domain': 'Urology'},\n",
       " {'_id': ObjectId('5d684aa64b8c8ac8cb94f696'),\n",
       "  'CHIEF COMPLAINT': 'Decreased ability to perform daily living activities secondary to right knee surgery.',\n",
       "  'HISTORY OF PRESENT ILLNESS': 'The patient is a 61-year-old white female status post right total knee replacement secondary to degenerative joint disease performed by Dr. A at ABCD Hospital on 08/21/2007.  The patient was transfused with 2 units of autologous blood postoperatively.  She received DVT prophylaxis with a combination of Coumadin, Lovenox, SCD boots, and TED stockings.  The remainder of her postoperative course was uneventful.  She was discharged on 08/24/2007 from ABCD Hospital and admitted to the transitional care unit at XYZ Services for evaluation and rehabilitation.  The patient reports that her last bowel movement was on 08/24/2007 just prior to her discharge from ABCD Hospital.  She denies any urological symptoms such as dysuria, incomplete bladder emptying or other voiding difficulties.  She reports having some right knee pain, which is most intense at a &quot;certain position.&quot;  The patient is unable to elaborate on which &quot;certain position&quot; causes her the most discomfort.',\n",
       "  'ALLERGIES': 'NKDA.',\n",
       "  'PAST MEDICAL HISTORY': 'Hypertension, hypothyroidism, degenerative joint disease, GERD, anxiety disorder, Morton neuroma of her feet bilaterally, and distant history of migraine headaches some 30 years ago.',\n",
       "  'MEDICATIONS': 'On transfer, Celebrex, Coumadin, Colace, Synthroid, Lovenox, Percocet, Toprol XL, niacin, and trazodone.',\n",
       "  'PHYSICAL EXAMINATION': 'VITAL SIGNS:  Temperature 96.5, blood pressure 127/72, pulse 70, respiratory rate 20, 95% O2 saturation on room air. GENERAL:  No acute distress at the time of the exam except as mentioned above complains of right knee pain at &quot;certain position.&quot; HEENT:  Normocephalic.  Sclerae nonicteric.  EOMI.  Dentition in good repair.  Tongue is in midline with no evidence of thrush. NECK:  No thyroid enlargement.  Trachea is midline. LUNGS:  Clear to auscultation. HEART:  Regular rate and rhythm.  Normal S1 and S2. ABDOMEN:  Soft, nontender, and nondistended.  No organomegaly. EXTREMITIES:  The right knee incision is intact.  Steri-Strips are in place.  There is some diffuse right knee edema and some limited ecchymosis as well.  No calf tenderness bilaterally.  Pedal pulses are palpable bilaterally. MENTAL STATUS:  The patient appears slightly anxious during the interview and exam, but she was alert and oriented.',\n",
       "  'HOSPITAL COURSE': \"As mentioned above, the patient was admitted on 08/24/2007 to the Transitional Care Unit at XYZ Services for evaluation and rehabilitation.  She was seen in consultation by Physical Therapy and Occupational Therapy and had begun her rehabilitation till recovery.  The patient had been properly instructed regarding using the CPM machine and she had been instructed as well to limit each CPM session to two hours.  Very early in her hospitalization, the patient enthusiastically used the CPM much longer than two hours and consequently had increased right knee pain.  She remarked that she had a better degree of flexibility, but she did report an increased need for pain management.  Additionally, she required Ativan and at one point scheduled the doses of Ativan to treat her known history of anxiety disorder.  On the fourth hospital day, she was noted to have some rashes about the right upper extremity and right side of her abdomen.  The patient reported that this rash was itchy.  She reports that she had been doing quite a bit of gardening just prior to surgery and this was most likely contact dermatitis, most likely due to her gardening activities preoperatively.  She was treated with betamethasone cream applied to the rash b.i.d.  The patient's therapy had progressed and she continued to make a good progress.  At one point, the patient reported some insomnia due to right knee pain.  She was switched from Percocet to oxycodone SR 20 mg b.i.d. and she had good pain control with this using the Percocet only for breakthrough pain.  The DVT prophylaxis was maintained with Lovenox 40 mg subcu daily until the INR was greater than 1.7 and it was discontinued on 08/30/2007 when the INR was 1.92 within therapeutic range.  The Coumadin was adjusted accordingly according to the INRs during her hospital course.  Early in the hospital course, the patient had reported right calf tenderness and a venous Doppler study obtained on 08/27/2007 showed no DVT bilaterally.  Initial laboratory data includes a UA on 08/28/2007, which was negative.  Additionally, CBC showed a white count of 6.3, hemoglobin was 12.1, hematocrit was 35.3, and platelets were 278,000.  Chemistries were within normal limits.  Creatinine was 0.8, BUN was 8, anion gap was slightly decreased at 5, fasting glucose was 102.  The remainder of chemistries was unremarkable.  The patient continued to make great progress with her therapies so much so that we are anticipating her discharge on Monday, 09/03/2007.\",\n",
       "  'DISCHARGE DIAGNOSES': '1.  Status post right total knee replacement secondary to degenerative joint disease performed on 08/21/2007. 2.  Anxiety disorder. 3.  Insomnia secondary to pain and anxiety postoperatively. 4.  Postoperative constipation. 5.  Contact dermatitis secondary to preoperative gardening activities. 6.  Hypertension. 7.  Hypothyroidism. 8.  Gastroesophageal reflux disease. 9.  Morton neuroma of the feet bilaterally. 10.  Distant history of migraine headaches.',\n",
       "  'INSTRUCTIONS GIVEN TO THE PATIENT AT THE TIME OF DISCHARGE': 'The patient is advised to continue taking the following medications:  Celebrex 200 mg daily, for one month, Colace 100 mg b.i.d. for one month, Protonix 40 mg b.i.d. for one month, Synthroid 137 mcg daily, Diprosone cream 0.05% cream b.i.d. to the right arm and right abdomen, oxycodone SR 20 mg p.o. q.12h. for five days, then decrease to oxycodone SR 10 mg p.o. q.12h. for five days, Percocet 5/325 mg one to two tablets q.6h. to be used p.r.n. for breakthrough pain, trazodone 50 mg p.o. at bedtime p.r.n. for two weeks, Ativan 0.25 mg b.i.d. for two weeks, and Toprol-XL 50 mg daily.  The patient will also take Coumadin and the dose will be adjusted according to the INRs, which will be obtained every Monday and Thursday with results being sent to Dr. A and his fax number is 831-5926.  At the present time, the patient is taking Coumadin 7 mg daily.  She will remain on Coumadin for 30 days.  An INR is to be obtained on 09/03/2007 and should the Coumadin dose be changed, an addendum will be dictated to accompany this discharge summary.  Finally, the patient has a followup appointment with Dr. A on 09/21/2007 at noon at his office.  The patient is encouraged to follow up with her primary care physician, Dr. B.  As mentioned above, the patient will be discharged on 09/03/2007 in stable and improved condition since she is status post right total knee replacement and has made good progress with her therapies and rehabilitation.',\n",
       "  'index_': '1006',\n",
       "  'clinical_domain': 'Orthopedic'},\n",
       " {'_id': ObjectId('5d684aa64b8c8ac8cb94f697'),\n",
       "  'CC': 'Difficulty with word finding.',\n",
       "  'HX': 'This 27y/o RHF experienced sudden onset word finding difficulty and slurred speech on the evening of 2/19/96. She denied any associated dysphagia, diplopia, numbness or weakness of her extremities. She went to sleep with her symptoms on 2/19/96, and awoke with them on 2/20/96. She also awoke with a headache (HA) and mild neck stiffness. She took a shower and her HA and neck stiffness resolved. Throughout the day she continued to have difficulty with word finding and had worsening of her slurred speech. That evening, she began to experience numbness and weakness in the lower right face. She felt like there was a &quot;rubber-band&quot; wrapped around her tongue. For 3 weeks prior to presentation, she experienced transient episodes of a &quot;boomerang&quot; shaped field cut in the left eye. The episodes were not associated with any other symptoms. One week prior to presentation, she went to a local ER for menorrhagia. She had just resumed taking oral birth control pills one week prior to the ER visit after having stopped their use for several months. Local evaluation included an unremarkable carotid duplex scan. However, a HCT with and without contrast reportedly revealed a left frontal gyriform enhancing lesion. An MRI brain scan on 2/20/96 revealed nonspecific white matter changes in the right periventricular region. EEG reportedly showed diffuse slowing. CRP was reportedly &quot;too high&quot; to calibrate.',\n",
       "  'MEDS': 'Ortho-Novum 7-7-7 (started 2/3/96), and ASA (started 2/20/96).',\n",
       "  'PMH': '1)ventral hernia repair 10 years ago, 2)mild &quot;concussion&quot; suffered during a MVA; without loss of consciousness, 5/93, 3) Anxiety disorder, 4) One childbirth.',\n",
       "  'FHX': 'She did not know her father and was not in contact with her mother.',\n",
       "  'SHX': 'Lives with boyfriend. Smokes one pack of cigarettes every three days and has done so for 10 years. Consumes 6 bottles of beers, one day a week. Unemployed and formerly worked at an herbicide plant.',\n",
       "  'EXAM': 'BP150/79, HR77, RR22, 37.4C. MS: A&O to person, place and time. Speech was dysarthric with mild decreased fluency marked by occasional phonemic paraphasic errors. Comprehension, naming and reading were intact. She was able to repeat, though her repetition was occasionally marked by phonemic paraphasic errors. She had no difficulty with calculation. CN: VFFTC, Pupils 5/5 decreasing to 3/3. EOM intact. No papilledema or hemorrhages seen on fundoscopy. No RAPD or INO. There was right lower facial weakness. Facial sensation was intact, bilaterally. The rest of the CN exam was unremarkable. MOTOR: 5/5 strength throughout with normal muscle bulk and tone. Sensory: No deficits. Coord/Station/Gait: unremarkable. Reflexes 2/2 throughout. Plantar responses were flexor, bilaterally. Gen Exam: unremarkable.',\n",
       "  'COURSE': 'CRP 1.2 (elevated), ESR 10, RF 20, ANA 1:40, ANCA &lt;1:40, TSH 2.0, FT4 1.73, Anticardiolipin antibody IgM 10.8GPL units (normal &lt;10.9), Anticardiolipin antibody IgG 14.8GPL (normal&lt;22.9), SSA and SSB were normal. Urine beta-hCG pregnancy and drug screen were negative. EKG, CXR and UA were negative. MRI brain, 2/21/96 revealed increased signal on T2 imaging in the periventricular white matter region of the right hemisphere. In addition, there were subtle T2 signal changes in the right frontal, right parietal, and left parietal regions as seen previously on her local MRI can. In addition, special FLAIR imaging showed increased signal in the right frontal region consistent with ischemia. She underwent Cerebral Angiography on 2/22/96. This revealed decreased flow and vessel narrowing the candelabra branches of the RMCA supplying the right frontal lobe. These changes corresponded to the areas of ischemic changes seen on MRI. There was also segmental narrowing of the caliber of the vessels in the circle of Willis. There was a small aneurysm at the origin of the LPCA. There was narrowing in the supraclinoid portion of the RICA and the proximal M1 and A1 segments. The study was highly suggestive of vasculitis. 2/23/96, Neuro-ophthalmology evaluation revealed no evidence of retinal vasculitic change. Neuropsychologic testing the same day revealed slight impairment of complex attention only. She was started on Prednisone 60mg qd and Tagamet 400mg qhs. On 2/26/96, she underwent a right frontal brain biopsy. Pathologic evaluation revealed evidence of focal necrosis (stroke/infarct), but no evidence of vasculitis. Immediately following the brain biopsy, while still in the recovery room, she experienced sudden onset right hemiparesis and transcortical motor type aphasia. Initial HCT was unremarkable. An EEG was consistent with a focal lesion in the left hemisphere. However, a 2/28/96 MRI brain scan revealed new increased signal on T2 weighted images in a gyriform pattern from the left precentral gyrus to the superior frontal gyrus. This was felt consistent with vasculitis. She began q2month cycles of Cytoxan (1,575mg IV on 2/29/96. She became pregnant after her 4th cycle of Cytoxan, despite warnings to the contrary. After extensive discussions with OB/GYN it was recommended she abort the pregnancy. She underwent neuropsychologic testing which revealed no significant cognitive deficits. She later agreed to the abortion. She has undergone 9 cycles of Cytoxan ( one cycle every 2 months) as of 4/97. She had complained of one episode of paresthesias of the LUE in 1/97. MRI then showed no new signs ischemia.',\n",
       "  'index_': '1001',\n",
       "  'clinical_domain': 'Neurology'},\n",
       " {'_id': ObjectId('5d684aa64b8c8ac8cb94f698'),\n",
       "  'MEDICATIONS': 'Plavix, atenolol, Lipitor, and folic acid.',\n",
       "  'CLINICAL HISTORY': 'This is a 41-year-old male patient who comes in with chest pain, had had a previous MI in 07/2003 and stents placement in 2003, who comes in for a stress myocardial perfusion scan. With the patient at rest, 10.3 mCi of Cardiolite technetium-99 m sestamibi was injected and myocardial perfusion imaging was obtained.',\n",
       "  'PROCEDURE AND INTERPRETATION': 'The patient exercised for a total of 12 minutes on the standard Bruce protocol.  The peak workload was 12.8 METS.  The resting heart rate was 57 beats per minute and the peak heart rate was 123 beats per minute, which was 69% of the age-predicted maximum heart rate response.  The blood pressure response was normal with a resting blood pressure of 130/100 and a peak blood pressure of 158/90.  The test was stopped due to fatigue and leg pain.  EKG at rest showed normal sinus rhythm.  The peak stress EKG did not reveal any ischemic ST-T wave abnormalities.  There was ventricular bigeminy seen during exercise, but no sustained tachycardia was seen.  At peak, there was no chest pain noted.  The test was stopped due to fatigue and left pain.  At peak stress, the patient was injected with 30.3 mCi of Cardiolite technetium-99 m sestamibi and myocardial perfusion imaging was obtained, and was compared to resting myocardial perfusion imaging.',\n",
       "  'MYOCARDIAL PERFUSION IMAGING': '1.  The overall quality of the scan was good. 2.  There was no diagnostic abnormality on the rest and stress myocardial perfusion imaging. 3.  The left ventricular cavity appeared normal in size. 4.  Gated SPECT images revealed mild septal hypokinesis and mild apical hypokinesis.  Overall left ventricular systolic function was low normal with calculated ejection fraction of 46% at rest.',\n",
       "  'CONCLUSIONS': '1.  Good exercise tolerance. 2.  Less than adequate cardiac stress.  The patient was on beta-blocker therapy. 3.  No EKG evidence of stress induced ischemia. 4.  No chest pain with stress. 5.  Mild ventricular bigeminy with exercise. 6.  No diagnostic abnormality on the rest and stress myocardial perfusion imaging. 7.  Gated SPECT images revealed septal and apical hypokinesis with overall low normal left ventricular systolic function with calculated ejection fraction of 46% at rest.',\n",
       "  'index_': '1011',\n",
       "  'clinical_domain': 'Radiology'},\n",
       " {'_id': ObjectId('5d684aa64b8c8ac8cb94f699'),\n",
       "  'EXAM': 'Three views of the right ankle.',\n",
       "  'INDICATIONS': 'Pain.',\n",
       "  'FINDINGS': 'Three views of the right ankle are obtained.  There is no evidence of fractures or dislocations.  No significant degenerative changes or destructive osseous lesions of the ankle are noted.  There is a small plantar calcaneal spur.  There is no significant surrounding soft tissue swelling.',\n",
       "  'IMPRESSION': 'Negative right ankle.',\n",
       "  'index_': '1013',\n",
       "  'clinical_domain': 'Orthopedic'}]"
      ]
     },
     "execution_count": 2,
     "metadata": {},
     "output_type": "execute_result"
    }
   ],
   "source": [
    "mongodb_query = database.text.find({}).limit(10)\n",
    "text_tuple = list(mongodb_query)\n",
    "text_tuple"
   ]
  },
  {
   "cell_type": "code",
   "execution_count": 3,
   "metadata": {},
   "outputs": [
    {
     "data": {
      "text/plain": [
       "10"
      ]
     },
     "execution_count": 3,
     "metadata": {},
     "output_type": "execute_result"
    }
   ],
   "source": [
    "len(text_tuple)"
   ]
  },
  {
   "cell_type": "code",
   "execution_count": null,
   "metadata": {},
   "outputs": [],
   "source": []
  }
 ],
 "metadata": {
  "kernelspec": {
   "display_name": "Python 3",
   "language": "python",
   "name": "python3"
  },
  "language_info": {
   "codemirror_mode": {
    "name": "ipython",
    "version": 3
   },
   "file_extension": ".py",
   "mimetype": "text/x-python",
   "name": "python",
   "nbconvert_exporter": "python",
   "pygments_lexer": "ipython3",
   "version": "3.6.8"
  }
 },
 "nbformat": 4,
 "nbformat_minor": 2
}
