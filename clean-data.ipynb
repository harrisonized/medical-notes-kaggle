{
 "cells": [
  {
   "cell_type": "code",
   "execution_count": 1,
   "metadata": {},
   "outputs": [],
   "source": [
    "import glob\n",
    "import json\n",
    "import dask.bag as db"
   ]
  },
  {
   "cell_type": "code",
   "execution_count": 2,
   "metadata": {
    "scrolled": true
   },
   "outputs": [],
   "source": [
    "def parse_text(data_list):\n",
    "    # Clean and format the text for conversion into a dictionary\n",
    "    \n",
    "    data_parsed_list = [i.strip() for i in data_list] # Parse text\n",
    "    data_parsed_strip_list = list(filter(None, data_parsed_list)) # Remove empty lines\n",
    "    \n",
    "    # Join lines that don't have a header\n",
    "    i = 1\n",
    "    while i < len(data_parsed_strip_list):\n",
    "        if '<B>' not in data_parsed_strip_list[i]:\n",
    "            data_parsed_strip_list[i-1:i+1] = [' '.join(data_parsed_strip_list[i-1:i+1])]\n",
    "        else:\n",
    "            i+=1\n",
    "    \n",
    "    data_dict_list = [item.replace('<B>', '') for item in data_parsed_strip_list] # Remove html tags\n",
    "    \n",
    "    return data_dict_list\n",
    "\n",
    "def list_to_dict(data_dict_list):\n",
    "    # Takes data_list and converts it into a dictionary\n",
    "    \n",
    "    data_dict = {}\n",
    "    for i in range(len(data_dict_list)):\n",
    "        if '</B>' not in data_dict_list[i]:\n",
    "            data_dict['text_{}'.format(i)] = data_dict_list[i]\n",
    "        else:\n",
    "            pair = data_dict_list[i].split('</B>', 1)\n",
    "            data_dict[pair[0].replace(':', '').strip()] = pair[1].strip()\n",
    "        \n",
    "    return data_dict"
   ]
  },
  {
   "cell_type": "code",
   "execution_count": 3,
   "metadata": {},
   "outputs": [],
   "source": [
    "files_list = glob.glob(\"data/data/*.txt\") # Grab a list of filenames\n",
    "files_list = sorted(files_list)"
   ]
  },
  {
   "cell_type": "code",
   "execution_count": 6,
   "metadata": {
    "scrolled": true
   },
   "outputs": [],
   "source": [
    "# Reads files into memory\n",
    "\n",
    "text_json = []\n",
    "\n",
    "for i in files_list:\n",
    "    with open(i, 'r', errors='replace') as f:\n",
    "        text = f.readlines()\n",
    "        f.close\n",
    "    \n",
    "    text_list = parse_text(text) # Parse the text into a list of key-value pairs in string format\n",
    "    text_dict = list_to_dict(text_list) # Converts the key-value pairs into dictionary\n",
    "    text_json.append(text_dict) # Appends the dictionary to a list to create json"
   ]
  },
  {
   "cell_type": "code",
   "execution_count": 7,
   "metadata": {},
   "outputs": [
    {
     "name": "stdout",
     "output_type": "stream",
     "text": [
      "Complete\n"
     ]
    }
   ],
   "source": [
    "# Save file as actual JSON\n",
    "filename = \"medical-text-data\"\n",
    "with open('data/{}.json'.format(filename), 'w') as f:\n",
    "    for i in range(len(text_json)):\n",
    "        json.dump(text_json[i], f)\n",
    "        f.write('\\n')\n",
    "print(\"Complete\")"
   ]
  },
  {
   "cell_type": "code",
   "execution_count": 8,
   "metadata": {},
   "outputs": [],
   "source": [
    "text_full_bag = db.read_text(\"data/medical-text-data.json\".format(files_list[0])).map(json.loads) # Loads the json file as a dask bag\n",
    "text_tuple = text_full_bag.take(10) # Takes the first 10000 entries of the dask bag and stores as a tuple\n",
    "text_tuple"
   ]
  }
 ],
 "metadata": {
  "kernelspec": {
   "display_name": "Python 3",
   "language": "python",
   "name": "python3"
  },
  "language_info": {
   "codemirror_mode": {
    "name": "ipython",
    "version": 3
   },
   "file_extension": ".py",
   "mimetype": "text/x-python",
   "name": "python",
   "nbconvert_exporter": "python",
   "pygments_lexer": "ipython3",
   "version": "3.6.8"
  }
 },
 "nbformat": 4,
 "nbformat_minor": 2
}
